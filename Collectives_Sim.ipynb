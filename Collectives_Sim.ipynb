{
  "nbformat": 4,
  "nbformat_minor": 0,
  "metadata": {
    "colab": {
      "provenance": []
    },
    "kernelspec": {
      "name": "python3",
      "display_name": "Python 3"
    },
    "language_info": {
      "name": "python"
    }
  },
  "cells": [
    {
      "cell_type": "markdown",
      "source": [
        "# Volatile Pheromone Field in Presence of Multiple Interacting Agents"
      ],
      "metadata": {
        "id": "PA6IGLtmydvn"
      }
    },
    {
      "cell_type": "code",
      "source": [
        "import numpy as np\n",
        "import scipy.sparse as sp\n",
        "import scipy.sparse.linalg as spla\n",
        "from scipy.ndimage import gaussian_filter\n",
        "import matplotlib.pyplot as plt\n",
        "import matplotlib.animation as animation"
      ],
      "metadata": {
        "id": "EiL9eK-0FNsx"
      },
      "execution_count": 73,
      "outputs": []
    },
    {
      "cell_type": "markdown",
      "source": [
        "Referenced: https://hplgit.github.io/fdm-book/doc/pub/book/sphinx/._book011.html"
      ],
      "metadata": {
        "id": "_Tbw5dAA5Qrk"
      }
    },
    {
      "cell_type": "markdown",
      "source": [
        "## Field Dynamics\n",
        "\n",
        "The pheromone field follows $$\\partial_t c(\\vec{x}, t) = k_+ \\rho_a(\\vec{x},t) - k_-c + D \\nabla^2 c$$ where:\n",
        "- $ c(\\vec{x}, t)$: is the concentration of the field at coordinates $\\vec{x}$, at time $t$.\n",
        "- $\\rho_a(\\vec{x},t)$: Gaussian Kernel convolved over the locations of the ant agents heading back.\n",
        "- $k_+$: Generation constant\n",
        "- $k_-$: Decay constant\n",
        "- $D \\ $:  Diffusion constant"
      ],
      "metadata": {
        "id": "qQh2It0kc7CT"
      }
    },
    {
      "cell_type": "markdown",
      "source": [
        "### Non-Dimensional Quantities:\n",
        "- $r$ = $v_a/k_-$ sets the length scale for the simulation.\n",
        "- $\\tau = r/v_a$ sets the timescale.\n",
        "- The coordinates $\\vec{x}$ can be expressed as $\\vec{x} = (u\\cdot r, v \\cdot r) = r \\cdot \\vec{u}$; and time as $t = \\hat{t}\\tau$.\n",
        "\n",
        "The field dynamics equation now becomes:\n",
        "$$\\frac{v_a}{r} \\frac{\\partial c}{\\partial \\hat{t}} = k_+ \\rho_a - k_-c + \\frac{D}{r^2} \\nabla^2 c$$\n",
        "\n",
        "$$ k_- \\frac{\\partial c}{\\partial \\hat{t}} = k_+ \\rho_a - k_-c + \\frac{k_-^2 D}{v_a^2} \\nabla^2 c$$\n",
        "\n",
        "$$\\frac{\\partial c}{\\partial \\hat{t}} = \\frac{k_+}{k_-} \\rho_a - c + \\frac{k_- D}{v_a^2} \\nabla^2 c$$\n",
        "\n",
        "i.e.,\n",
        "\n",
        "$$\\frac{\\partial c}{\\partial \\hat{t}} = \\hat{k} \\rho_a - c + \\frac{1}{\\text{P}} \\nabla^2 c$$\n",
        "\n",
        "$$$$\n",
        "where $\\quad \\hat{k} = \\frac{k_+}{k_-}$ (effective generation rate), $\\quad \\text{P} = \\frac{k_- D}{v_a^2} = \\frac{r v_a}{D}$ (the Peclet no.)"
      ],
      "metadata": {
        "id": "tphygv21O6_E"
      }
    },
    {
      "cell_type": "markdown",
      "source": [
        "### Implicit Integration Scheme\n",
        "\n",
        "In an implicit scheme, ignoring reinforcement:\n",
        "\n",
        "$$c^{n+1} = c^n + \\Delta \\hat t(- c^{n+1} + \\frac{1}{\\text{P}}\\nabla^2 c^{n+1})$$\n",
        "\n",
        "and\n",
        "\n",
        "$$(1+\\Delta t) c^{n+1} - \\frac{1}{\\text{P}}\\Delta t\\nabla^2c^{n+1} = c^n$$\n",
        "\n",
        "after discretizing field into a grid and ravelling it into a vector $\\vec{c}^n$,\n",
        "\n",
        "$$\\left((1 +\\Delta t) I - \\frac{\\Delta t}{\\text{P}} L \\right)\\vec c^{n+1} = \\vec c^n$$\n",
        "\n",
        "where $I$ is the identity matrix of appropriate size and $L$ is the matrix that computes the approximate laplacian with finite differences.\n",
        "\n",
        "This is of the form $\\quad A \\ \\vec c^{n+1} = \\vec c^n$\n",
        "\n",
        "`scipy`'s linear eqn. solver can then be used to evaluate $c^{n+1}$ given $c^{n}$."
      ],
      "metadata": {
        "id": "V3xVqb-cl6S9"
      }
    },
    {
      "cell_type": "markdown",
      "source": [
        "### In Presence of Pher. Generating Agents\n",
        "\n",
        "The dynamics including the source term to account for the pheromones newly generated:\n",
        "\n",
        "$$\\frac{\\vec c^{n+1}- \\vec c^n}{\\Delta \\hat{t}} = \\hat{k} \\vec \\rho_a^{n+1} - \\vec c^{n+1} + \\frac{1}{\\text{P}} \\nabla^2 \\vec c^{n+1}$$\n",
        "\n",
        "$$$$\n",
        "$$\\vec c^{n+1} = \\vec c^n + \\Delta \\hat t \\left(\\hat{k} \\vec \\rho_a^{n+1} - \\vec c^{n+1} + \\frac{1}{\\text{P}}\\nabla^2 \\vec c^{n+1}\\right)$$\n",
        "\n",
        "in the implicit scheme:\n",
        "\n",
        "$$\\left( (1 +\\Delta \\hat t ) I - \\frac{\\Delta \\hat t}{\\text{P}} L \\right) \\vec c^{n+1} - \\ \\Delta \\hat t \\ \\hat{k} \\ \\rho_a^{n+1}= \\vec c^n $$\n",
        "\n",
        "\n",
        "This is of the form: $ \\quad A\\ \\vec c^{n+1} + b\\ \\vec \\rho_a^{n+1} = \\vec c^n$\n"
      ],
      "metadata": {
        "id": "RxH32CffN-ix"
      }
    },
    {
      "cell_type": "markdown",
      "source": [
        "#### Implementation Logistics\n",
        "\n",
        "Initial conditions $R, w$ (radius and setup of initial semicrcular setup) are expressed relative to the agent size $r$.\n",
        "\n",
        "The field $c(\\vec{u},t)$ is discretized to a grid, $c^t_{ij}$, where the grid spacing in non-dim units is $h$."
      ],
      "metadata": {
        "id": "alipifJyUAzv"
      }
    },
    {
      "cell_type": "code",
      "source": [
        "class PheromoneField:\n",
        "    #Setup\n",
        "    #---------------------------------------------------------------------------\n",
        "    def __init__(self, R, h, P, k, rho_phi, dt):\n",
        "        \"\"\"Initialize the PheromoneField class\"\"\"\n",
        "        self.R, self.h  = R, h                    #Radius, Grid spacing\n",
        "        self.dt = dt                              #Time step size (non-dim units)\n",
        "        self.Nx, self.Ny = 4*int(R/h), 3*int(R/h) #Grid size\n",
        "        self.P, self.k = P, k                     #Peclet no., Eff. Gen. constants (non-dim units)\n",
        "        self.rho_phi = rho_phi                    #Factor for saturating the generative term\n",
        "\n",
        "        self.c = np.zeros((self.Nx, self.Ny))     #Field grid matrix\n",
        "        self.cvec = self.c.ravel()                #Field as a vector\n",
        "        x = np.linspace(-2*R, 2*R, self.Nx)\n",
        "        y = np.linspace(-1*R, 2*R, self.Ny)\n",
        "        self.X, self.Y = np.meshgrid(x, y, indexing=\"ij\")\n",
        "\n",
        "        #simulatiton loop variables\n",
        "        def matvec(v):                            #Matrix-free implicit Diffusion (Laplacian) + Decay operator\n",
        "            V = v.reshape((self.Nx, self.Ny))\n",
        "            L = (-4*V +\n",
        "                 np.roll(V, 1, axis=0) + np.roll(V, -1, axis=0) +\n",
        "                 np.roll(V, 1, axis=1) + np.roll(V, -1, axis=1)) / self.h**2\n",
        "            return (1 + self.dt)*v - (self.dt/self.P) * L.ravel()\n",
        "        self.A = spla.LinearOperator((self.Nx*self.Ny, self.Nx*self.Ny), matvec=matvec)\n",
        "\n",
        "    def set_initial_semicircle(self, R, W):\n",
        "        \"\"\"Fill c=1 inside semicircular strip {R-W/2<=r<=R+W/2 && y>=0}\"\"\"\n",
        "        r = np.sqrt(self.X**2 + self.Y**2)\n",
        "        mask = (self.Y >= 0) & (np.abs(r - R) <= W/2)\n",
        "        self.c[mask] = 1.0\n",
        "        self.cvec = self.c.ravel()\n",
        "\n",
        "    #Simulation Loop Functions\n",
        "    #---------------------------------------------------------------------------\n",
        "    def step(self, dep, steps = 1):\n",
        "        self.cvec, _ = spla.cg(self.A, self.cvec + dep, x0=self.cvec, maxiter=200)\n",
        "\n",
        "    #Generative Term\n",
        "    def deposit_agents(self, agents, sigma=0.1):\n",
        "        \"\"\"Add the pheromones deposit by the agents as gaussians\"\"\"\n",
        "        mask = np.zeros_like(self.cvec.reshape((self.Nx, self.Ny)))\n",
        "        positions = np.array([ag.r for ag in agents if ag.laying])              #Extract positions of only laying agents\n",
        "        if len(positions) > 0:\n",
        "            i = ((positions[:, 0] - self.X.min()) / self.h).astype(int)\n",
        "            j = ((positions[:, 1] - self.Y.min()) / self.h).astype(int)\n",
        "            valid = (i >= 0) & (i < self.Nx) & (j >= 0) & (j < self.Ny)\n",
        "            i, j = i[valid], j[valid]\n",
        "            np.add.at(mask, (i, j), 1.0)\n",
        "\n",
        "        deposit = gaussian_filter(mask, sigma/self.h)\n",
        "        deposit = deposit / (1.0 + self.rho_phi * deposit)\n",
        "        return deposit.ravel()\n",
        "\n",
        "    #Visualization\n",
        "    #---------------------------------------------------------------------------\n",
        "    def animate(self, steps, agents, sim, interval=50):\n",
        "        \"\"\"Make a matplotlib animation of the field evolution.\"\"\"\n",
        "\n",
        "        self.c = self.cvec.reshape((self.Nx, self.Ny))\n",
        "\n",
        "        fig, ax = plt.subplots()\n",
        "        im = ax.imshow(self.c.T, origin=\"lower\", cmap=\"viridis\", interpolation=\"nearest\",\n",
        "                       extent=[self.X.min(), self.X.max(),self.Y.min(), self.Y.max()], aspect=\"equal\")\n",
        "\n",
        "        scat = ax.scatter([ag.r[0] for ag in agents], [ag.r[1] for ag in agents],\n",
        "                    c=['blue' if ag.isForager else 'orange' for ag in agents],\n",
        "                    s=10)#, edgecolors='k')\n",
        "\n",
        "        time_text = ax.text(0.02, 0.95,  f't = 0.00τ', transform=ax.transAxes, color='white')\n",
        "        ax.set_title(\"Pheromone field\")\n",
        "        ax.set_xlabel(\"u\")\n",
        "        ax.set_ylabel(\"v\")\n",
        "\n",
        "        def update(frame):\n",
        "            if frame > 0:\n",
        "                sim.step(1)\n",
        "                self.c = self.cvec.reshape((self.Nx, self.Ny))\n",
        "            im.set_data(self.c.T)\n",
        "            scat.set_offsets([ag.r for ag in agents])\n",
        "\n",
        "            colors = []\n",
        "            for ag in agents:\n",
        "                if ag.laying:\n",
        "                    colors.append(\"green\")\n",
        "                else:\n",
        "                    colors.append(\"blue\" if ag.isForager else \"orange\")\n",
        "            scat.set_facecolors(colors)\n",
        "\n",
        "            time_text.set_text(f\"t = {sim.t:.2f}τ\")\n",
        "            return  im, scat, time_text\n",
        "\n",
        "        ani = animation.FuncAnimation(fig, update, frames=steps,\n",
        "                                      interval=interval, blit=True)\n",
        "        #plt.show()\n",
        "        return ani"
      ],
      "metadata": {
        "id": "N-JzJvO7FBrl"
      },
      "execution_count": 74,
      "outputs": []
    },
    {
      "cell_type": "markdown",
      "source": [
        "## Agent Dynamics"
      ],
      "metadata": {
        "id": "3eCmIDWliT8N"
      }
    },
    {
      "cell_type": "markdown",
      "source": [
        "Ant agents are classified into `Worker` and `Forager` ants.\n",
        "\n",
        "#### Worker Ants\n",
        "- Responsible for maintaining the semicircular pheromone trail.\n",
        "- They keep the trail intact by laying pheromone all the time.\n",
        "- Behaviour divided into three stages:\n",
        "    - `to_food`: Moving from colony to food source.\n",
        "    - `returning`: Returning back to the colony\n",
        "    - `resting`: Waiting period in the colony before the ant wanders out again.\n",
        "\n",
        "#### Forager Ants\n",
        "- Responsible for exploration.\n",
        "- Lay pheromone only when returing back to the colony after successfully reaching the food source.\n",
        "- Three stages:\n",
        "    - `exploring`: When going from Colony to source (Intrinsic trail following policy until `nIntSteps`; deviates and follows an OU-Policy after)\n",
        "    - `returning`, `resting` phases are the same as worker ants.\n"
      ],
      "metadata": {
        "id": "EqnhVpDDapNM"
      }
    },
    {
      "cell_type": "code",
      "source": [
        "class Agent:\n",
        "    def __init__(self, r, phi, v = 1.0, noise = 0.1, laying = False, nIntStep = 75, forager = False):\n",
        "        self.r      = np.array(r, dtype=float)                            #position\n",
        "        self.phat   = np.array([np.cos(phi), np.sin(phi)])                #p_hat: Direction\n",
        "        self.v      = v                                                   #speed\n",
        "        self.laying = laying                                              #is laying pheromones?\n",
        "        self.noise  = noise                                               #noise level\n",
        "\n",
        "        self.isForager = forager\n",
        "        self.food = np.array([-10.0,0])    #Food Source location\n",
        "        self.colony= np.array([10.0,0.0])  #Colony location\n",
        "        self.state = \"exploring\" if forager else \"to_food\"\n",
        "\n",
        "        #OU Process variables\n",
        "        self.alpha = 0.1                #\n",
        "        self.tgtphi = 0                 #Angle towards target\n",
        "        self.thet = 0.5*np.pi           #Initial direction of motion\n",
        "        self.diff = 0.005                #Diffusion factor in the\n",
        "        self.tgt = self.food            #Target is initally to find Food\n",
        "\n",
        "        self.nIntStep = nIntStep\n",
        "        self.steps = 0\n",
        "        return\n",
        "\n",
        "    def step(self, dt):\n",
        "\n",
        "        if self.isForager:\n",
        "        #Forager Ant Dynamics --------------------------------------------------\n",
        "            if self.state == \"exploring\":\n",
        "                if self.steps < self.nIntStep:\n",
        "                    self.intPolicy(dt)\n",
        "                elif self.steps == self.nIntStep:\n",
        "                    tgtOrn = (self.tgt - self.r)/np.linalg.norm(self.tgt - self.r) #Orientation of the target from given location\n",
        "                    self.tgtphi = np.arctan2(tgtOrn[1], tgtOrn[0])\n",
        "                    self.thet = self.tgtphi\n",
        "                    self.OUPolicy(dt)\n",
        "                else:\n",
        "                    self.OUPolicy(dt)\n",
        "                self.steps += 1\n",
        "                if self.reached(self.food):\n",
        "                    self.state = \"returning\"\n",
        "                    self.tgtphi += np.pi\n",
        "                    self.thet += np.pi\n",
        "                    self.laying = True\n",
        "                    self.tgt = self.colony\n",
        "                return\n",
        "\n",
        "            elif self.state == \"returning\":\n",
        "                if self.steps > self.nIntStep:\n",
        "                    self.OUPolicy(dt)\n",
        "                elif self.steps <= self.nIntStep:\n",
        "                    self.intPolicy(dt)\n",
        "                self.steps -= 1\n",
        "                if self.reached(self.colony):\n",
        "                    self.state = \"resting\"\n",
        "                    self.laying = False\n",
        "                    self.rest_steps = 10\n",
        "\n",
        "            elif self.state == \"resting\":\n",
        "                self.rest_steps -= 1\n",
        "                if self.rest_steps <= 0:\n",
        "                    self.state = \"exploring\"\n",
        "                    self.steps = 0\n",
        "                    self.tgt = self.food\n",
        "            return\n",
        "\n",
        "        else:\n",
        "        #Worker Ant Dynamics ---------------------------------------------------\n",
        "            if self.state == \"to_food\":\n",
        "                self.intPolicy(dt)\n",
        "                if self.reached(self.food):\n",
        "                    self.state = \"returning\"\n",
        "                    self.laying = True\n",
        "                    self.tgt = self.colony\n",
        "\n",
        "            elif self.state == \"returning\":\n",
        "                self.intPolicy(dt)\n",
        "                if self.reached(self.colony):\n",
        "                    self.state = \"resting\"\n",
        "                    self.laying = False\n",
        "                    self.rest_steps = 50\n",
        "\n",
        "            elif self.state == \"resting\":\n",
        "                self.rest_steps -= 1\n",
        "                if self.rest_steps <= 0:\n",
        "                    self.state = \"to_food\"\n",
        "                    self.laying = True\n",
        "                    self.tgt = self.food\n",
        "        return\n",
        "\n",
        "    def intPolicy(self, dt):\n",
        "        phi = np.arctan2(self.r[1], self.r[0])\n",
        "        if self.state == \"returning\":\n",
        "            phi -= np.pi/2 + self.noise * np.random.randn()\n",
        "        else:\n",
        "            phi += np.pi/2 + self.noise * np.random.randn()\n",
        "        self.phat = np.array([np.cos(phi), np.sin(phi)])\n",
        "        self.r += self.v * dt * self.phat\n",
        "        return\n",
        "\n",
        "    def OUPolicy(self, dt):\n",
        "        self.r += self.v * dt * np.array([np.cos(self.thet), np.sin(self.thet)])\n",
        "        d_thet = self.alpha*(self.tgtphi - self.thet)*dt + np.sqrt(2*self.diff*dt)*np.random.normal()\n",
        "        self.thet += d_thet\n",
        "        return\n",
        "\n",
        "    def reached(self, point, tol=1):\n",
        "        return np.linalg.norm(self.r - point) < tol"
      ],
      "metadata": {
        "id": "P20i7s5_qBgq"
      },
      "execution_count": 75,
      "outputs": []
    },
    {
      "cell_type": "markdown",
      "source": [
        "## Simulation Loop"
      ],
      "metadata": {
        "id": "aa9hXLCaYQm9"
      }
    },
    {
      "cell_type": "code",
      "source": [
        "class Simulation:\n",
        "    def __init__(self, field, agents, dt):\n",
        "        self.field = field\n",
        "        self.agents = agents\n",
        "        self.dt = dt\n",
        "        self.t = 0.0\n",
        "        return\n",
        "\n",
        "    def step(self, steps = 1):\n",
        "        for _ in range(steps):\n",
        "            for ag in self.agents:\n",
        "                ag.step(self.dt)\n",
        "            dep = self.field.deposit_agents(self.agents)\n",
        "            self.field.step(dep, steps=1)\n",
        "        self.t += steps*self.dt\n",
        "        return"
      ],
      "metadata": {
        "id": "efev0jamYQL4"
      },
      "execution_count": 76,
      "outputs": []
    },
    {
      "cell_type": "code",
      "source": [
        "field = PheromoneField(R = 10, h=0.1, P=100, k = 10e5, rho_phi= 1, dt=0.05)\n",
        "field.set_initial_semicircle(R=10, W=0.1)\n",
        "\n",
        "agents = []\n",
        "for theta in np.linspace(0, np.pi, 8):\n",
        "    r = [10*np.cos(theta), 10*np.sin(theta)]\n",
        "    agents.append(Agent(r, phi= theta+0.5*np.pi, v=2, laying=True, forager=False))\n",
        "\n",
        "for _ in range(5):\n",
        "    agents.append(Agent([10.0, 0.0], phi=np.pi/2, v=3,\n",
        "                        laying=False, forager=True, nIntStep=50))\n",
        "'''\n",
        "agents = [Agent([10,0], [0,1], v=4.0, laying=True),\n",
        "          Agent([10,0], [0,1], v=8.0, laying=True, nIntStep=100),\n",
        "          Agent([10,0], [0,1], v=4.0, laying=True, nIntStep=30),\n",
        "          Agent([8,0], [0,1], v=6.0, laying=True)]'''\n",
        "\n",
        "sim = Simulation(field, agents, dt=0.05)"
      ],
      "metadata": {
        "id": "VBGnuOd0wnzm"
      },
      "execution_count": 77,
      "outputs": []
    },
    {
      "cell_type": "code",
      "source": [
        "ani = field.animate(steps=500, agents=agents, interval=50, sim=sim)\n",
        "ani.save(\"pheromone.mp4\", writer=\"ffmpeg\", fps=20)"
      ],
      "metadata": {
        "colab": {
          "base_uri": "https://localhost:8080/",
          "height": 472
        },
        "id": "ejaWjVx2ox1I",
        "outputId": "2b8f2d0d-7bee-49f9-b749-224723d830fe"
      },
      "execution_count": 78,
      "outputs": [
        {
          "output_type": "display_data",
          "data": {
            "text/plain": [
              "<Figure size 640x480 with 1 Axes>"
            ],
            "image/png": "[encoded data removed]"
          },
          "metadata": {}
        }
      ]
    },
    {
      "cell_type": "code",
      "source": [],
      "metadata": {
        "id": "U_WRap4G4Vox"
      },
      "execution_count": null,
      "outputs": []
    }
  ]
}