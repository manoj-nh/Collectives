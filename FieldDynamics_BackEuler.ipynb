{
  "nbformat": 4,
  "nbformat_minor": 0,
  "metadata": {
    "colab": {
      "provenance": []
    },
    "kernelspec": {
      "name": "python3",
      "display_name": "Python 3"
    },
    "language_info": {
      "name": "python"
    }
  },
  "cells": [
    {
      "cell_type": "markdown",
      "source": [
        "# Simulating the Dynamics of a Volatile Pheromone Field"
      ],
      "metadata": {
        "id": "PA6IGLtmydvn"
      }
    },
    {
      "cell_type": "code",
      "source": [
        "import numpy as np\n",
        "import scipy.sparse as sp\n",
        "import scipy.sparse.linalg as spla\n",
        "import matplotlib.pyplot as plt\n",
        "import matplotlib.animation as animation"
      ],
      "metadata": {
        "id": "EiL9eK-0FNsx"
      },
      "execution_count": 1,
      "outputs": []
    },
    {
      "cell_type": "markdown",
      "source": [
        "#### Dynamics\n",
        "\n",
        "The pheromone field follows $$\\partial_t c(\\vec{x}, t) = k_+ \\rho_a(\\vec{x},t) - k_-c + D \\nabla^2 c$$ where:\n",
        "- $ c(\\vec{x}, t)$: is the concentration of the field at coordinates $\\vec{x}$, at time $t$.\n",
        "- $\\rho_a(\\vec{x},t)$: Gaussian Kernel convolved over the locations of the ant agents heading back."
      ],
      "metadata": {
        "id": "qQh2It0kc7CT"
      }
    },
    {
      "cell_type": "markdown",
      "source": [
        "#### Implicit Integration\n",
        "\n",
        "In an implicit scheme, ignoring reinforcement: $$c^{n+1} = c^n + \\Delta t(-k_- c^{n+1} + D\\nabla^2c^{n+1})$$\n",
        "and\n",
        "\n",
        "$$(1+\\Delta t k_-) c^{n+1} - D\\Delta t\\nabla^2c^{n+1} = c^n$$\n",
        "\n",
        "after discretizing field into a grid and ravelling it into a vector $\\vec{c}^n$,\n",
        "\n",
        "$$((1 +\\Delta t k_-) I - D\\Delta t L)\\vec c^{n+1} = \\vec c^n$$\n",
        "\n",
        "where $I$ is the ientity matrix of appropriate sign and $L$ is the matrix that computes the approximate laplacian with finite differences."
      ],
      "metadata": {
        "id": "V3xVqb-cl6S9"
      }
    },
    {
      "cell_type": "markdown",
      "source": [
        "#### Non-Dimensional Quantities:\n",
        "- Let the $r$ and $v_a$ be the size and speed of the agent respectively.\n",
        "- $r$ sets the length scale for the simulation and $\\tau = r/v_a$ sets the timescale.\n",
        "- The coordinates $\\vec{x}$ can be expressed as $\\vec{x} = (u\\cdot r, v \\cdot r) = r \\cdot \\vec{u}$; and time as $t = \\hat{t}\\tau$.\n",
        "\n",
        "The field dynamics equation now becomes:\n",
        "$$\\frac{v_a}{r} \\frac{\\partial c}{\\partial \\hat{t}} = k_+ \\rho_a - k_-c + \\frac{D}{r^2} \\nabla^2 c$$\n",
        "i.e,\n",
        "$$\\frac{\\partial c}{\\partial \\hat{t}} = \\hat{k_+} \\rho_a - \\hat{k_-}c + \\frac{1}{\\text{Pe}} \\nabla^2 c$$\n",
        "\n",
        "where $\\quad \\hat{k_+} = \\frac{r k_+}{v_a}, \\quad \\hat{k_-} = \\frac{r k_-}{v_a}, \\quad \\text{Pe} = \\frac{r v_a}{D}$ (the Peclet no.)\n",
        "\n",
        "In the implementation, we then have:\n",
        "\n",
        "$$\\left( (1 +\\Delta t \\hat{k_-}) I - \\frac{\\Delta t}{\\text{Pe}} L \\right) \\vec c^{n+1} = \\vec c^n$$\n",
        "\n",
        "which is of the form $\\quad A \\ \\vec c^{n+1} = \\vec c^n$\n",
        "\n",
        "`scipy`'s linear eqn. solver can then be used to evaluate $c^{n+1}$ given $c^{n}$."
      ],
      "metadata": {
        "id": "tphygv21O6_E"
      }
    },
    {
      "cell_type": "markdown",
      "source": [
        "#### Implementation Logistics\n",
        "\n",
        "For the simulation, we set $r=1$.\n",
        "\n",
        "Initial conditions $R, w$ (radius and setup of initial semicrcular setup) are expressed relative to the agent size $r$.\n",
        "\n",
        "The field $c(\\vec{u},t)$ is discretized to a grid, $c^t_{ij}$, where the grid spacing in non-dim units is $h$."
      ],
      "metadata": {
        "id": "alipifJyUAzv"
      }
    },
    {
      "cell_type": "code",
      "source": [
        "class PheromoneField:\n",
        "    def __init__(self, R, h, P, kn, dt):\n",
        "        \"\"\"Initialize the PheromoneField class\"\"\"\n",
        "        self.R, self.h  = R, h                    #Radius, Grid spacing\n",
        "        self.dt = dt                              #Time step size (non-dim units)\n",
        "        self.Nx, self.Ny = 6*int(R/h), 4*int(R/h) #Grid size\n",
        "        self.P, self.kn = P, kn                   #Peclet no., Decay constants (non-dim units)\n",
        "        self.decfac = np.exp(-self.kn * self.dt)  #Decay factor\n",
        "        self.iters = 0                            #Iteration counter\n",
        "        print('Setup: ---------------')\n",
        "        print(f\"Nx = {self.Nx}, Ny = {self.Ny}\")\n",
        "\n",
        "        self.c = np.zeros((self.Nx, self.Ny))             #Field grid matrix\n",
        "        x = np.linspace(-3*R, 3*R, self.Nx)\n",
        "        y = np.linspace(-1*R, 3*R, self.Ny)\n",
        "        self.X, self.Y = np.meshgrid(x, y, indexing=\"ij\")\n",
        "        print('Grid set')\n",
        "\n",
        "        #simulatiton loop variables\n",
        "        self.cvec = self.c.ravel()                             #convert field matrix to one single vector\n",
        "        # Matrix-free implicit diffusion operator\n",
        "        def matvec(v):\n",
        "            V = v.reshape(self.Nx, self.Ny)\n",
        "            L = (-4*V +\n",
        "                 np.roll(V, 1, axis=0) + np.roll(V, -1, axis=0) +\n",
        "                 np.roll(V, 1, axis=1) + np.roll(V, -1, axis=1)) / self.h**2\n",
        "            return v - (self.dt/self.P) * L.ravel()\n",
        "\n",
        "        self.A = spla.LinearOperator((self.Nx*self.Ny, self.Nx*self.Ny), matvec=matvec)\n",
        "\n",
        "    def _laplacian_matrix(self, Nx, Ny, h):\n",
        "        \"\"\"Generate Sparse (csr) matrix to compute the Laplacian of the field\"\"\"\n",
        "        main = -4.0 * np.ones(Nx*Ny) / h**2\n",
        "        off = 1.0 * np.ones(Nx*Ny - 1) / h**2\n",
        "        out = 1.0 * np.ones(Nx*Ny - Ny) / h**2\n",
        "        L = sp.diags([out, off, main, off, out], offsets=[-Ny, -1, 0, 1, Ny])\n",
        "        return L.tocsc()\n",
        "\n",
        "    def set_initial_semicircle(self, R, W):\n",
        "        \"\"\"Fill c=1 inside semicircular strip {R-W/2<=r<=R+W/2 && y>=0}\"\"\"\n",
        "        r = np.sqrt(self.X**2 + self.Y**2)\n",
        "        mask = (self.Y >= 0) & (np.abs(r - R) <= W/2)\n",
        "        self.c[mask] = 1.0\n",
        "        self.cvec = self.c.ravel()\n",
        "\n",
        "    #Simulation loop\n",
        "    def step(self, steps):\n",
        "        \"\"\"Advance field by dt with implicit diffusion + exact decay.\"\"\"\n",
        "        for _ in range(steps):\n",
        "            self.cvec *= self.decfac  # decay\n",
        "            # solve (I - dt/P * L) x = cvec\n",
        "            self.cvec, _ = spla.cg(self.A, self.cvec, x0=self.cvec, maxiter=200)\n",
        "        self.iters += steps\n",
        "        return\n",
        "\n",
        "    def animate(self, steps, interval=50):\n",
        "        \"\"\"Make a matplotlib animation of the field evolution.\"\"\"\n",
        "        self.c = self.cvec.reshape((self.Nx, self.Ny)) #To recover c from cvec\n",
        "\n",
        "        fig, ax = plt.subplots()\n",
        "        im = ax.imshow(self.c.T, origin=\"lower\", cmap=\"viridis\", interpolation=\"nearest\",\n",
        "                       extent=[self.X.min(), self.X.max(),self.Y.min(), self.Y.max()], aspect=\"equal\")\n",
        "                       #extent=[-5*self.R, 5*self.R, -3*self.R, 5*self.R], aspect=\"equal\")\n",
        "                       #extent=[-self.Nx*self.h/2, self.Nx*self.h/2,-self.Ny*self.h/4, 3*self.Ny*self.h/4])\n",
        "        time_text = ax.text(0.02, 0.95,  f't = 0.00τ', transform=ax.transAxes, color='white')\n",
        "        ax.set_title(\"Pheromone field\")\n",
        "        ax.set_xlabel(\"u\")\n",
        "        ax.set_ylabel(\"v\")\n",
        "\n",
        "        def update(frame):\n",
        "            if frame > 0:\n",
        "                self.step(1)\n",
        "            self.c = self.cvec.reshape((self.Nx, self.Ny)) #To recover c from cvec\n",
        "            im.set_data(self.c.T)\n",
        "            time_text.set_text(f\"t = {self.iters*self.dt:.4f}τ\")\n",
        "            return  im, time_text\n",
        "\n",
        "        ani = animation.FuncAnimation(fig, update, frames=steps,\n",
        "                                      interval=interval, blit=True)\n",
        "        #plt.show()\n",
        "        return ani\n",
        "\n",
        "    def plot_frame(self, steps):\n",
        "        \"\"\"Make a plot of the field evolution.\"\"\"\n",
        "        self.step(steps)\n",
        "        self.c = self.cvec.reshape((self.Nx, self.Ny)) #To recover c from cvec\n",
        "\n",
        "        fig, ax = plt.subplots()\n",
        "        im = ax.imshow(self.c.T, origin=\"lower\", cmap=\"viridis\", vmax=1, vmin=0,\n",
        "                       extent=[self.X.min(), self.X.max(),self.Y.min(), self.Y.max()], aspect=\"equal\")\n",
        "                       #extent=[-5*self.R, 5*self.R, -3*self.R, 5*self.R], aspect=\"equal\")\n",
        "                       #extent=[-self.Nx*self.h/2, self.Nx*self.h/2,-self.Ny*self.h/4, 3*self.Ny*self.h/4])\n",
        "        time_text = ax.text(0.02, 0.95,  f't = {self.iters * self.dt:.4f}τ', transform=ax.transAxes, color='white')\n",
        "        ax.set_title(\"Pheromone field\")\n",
        "        ax.set_xlabel(\"u\")\n",
        "        ax.set_ylabel(\"v\")\n",
        "        plt.show()\n",
        "        return\n"
      ],
      "metadata": {
        "id": "N-JzJvO7FBrl"
      },
      "execution_count": 2,
      "outputs": []
    },
    {
      "cell_type": "code",
      "source": [
        "field = PheromoneField(R = 5, h=0.01, P=10, kn=1, dt=0.01)\n",
        "field.set_initial_semicircle(R=5.0, W=0.5)"
      ],
      "metadata": {
        "colab": {
          "base_uri": "https://localhost:8080/"
        },
        "id": "vD0eT6bdFeNi",
        "outputId": "2517cf26-495a-40c4-db1e-5e446a7e6c88"
      },
      "execution_count": 3,
      "outputs": [
        {
          "output_type": "stream",
          "name": "stdout",
          "text": [
            "Setup: ---------------\n",
            "Nx = 3000, Ny = 2000\n",
            "Grid set\n"
          ]
        }
      ]
    },
    {
      "cell_type": "code",
      "source": [
        "ani = field.animate(steps=50, interval=50)\n",
        "ani.save(\"pheromone.mp4\", writer=\"ffmpeg\", fps=20)"
      ],
      "metadata": {
        "colab": {
          "base_uri": "https://localhost:8080/",
          "height": 433
        },
        "id": "fkccp28Wm4DK",
        "outputId": "864a14b7-43c1-420f-c870-13f139c404dc"
      },
      "execution_count": 4,
      "outputs": [
        {
          "output_type": "display_data",
          "data": {
            "text/plain": [
              "<Figure size 640x480 with 1 Axes>"
            ],
            "image/png": "[encoded data removed]"
          },
          "metadata": {}
        }
      ]
    },
    {
      "cell_type": "code",
      "source": [
        "ani.save(\"pheromone.mp4\", writer=\"ffmpeg\", fps=20,\n",
        "         extra_args=[\"-vcodec\", \"libx264\", \"-preset\", \"ultrafast\"])"
      ],
      "metadata": {
        "id": "ZYQCIxItrym6"
      },
      "execution_count": 5,
      "outputs": []
    }
  ]
}