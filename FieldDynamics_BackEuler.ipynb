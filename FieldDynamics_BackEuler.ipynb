{
  "nbformat": 4,
  "nbformat_minor": 0,
  "metadata": {
    "colab": {
      "provenance": []
    },
    "kernelspec": {
      "name": "python3",
      "display_name": "Python 3"
    },
    "language_info": {
      "name": "python"
    }
  },
  "cells": [
    {
      "cell_type": "markdown",
      "source": [
        "# Simulating the Dynamics of a Volatile Pheromone Field"
      ],
      "metadata": {
        "id": "PA6IGLtmydvn"
      }
    },
    {
      "cell_type": "code",
      "source": [
        "import numpy as np\n",
        "import scipy.sparse as sp\n",
        "import scipy.sparse.linalg as spla\n",
        "from scipy.ndimage import gaussian_filter\n",
        "import matplotlib.pyplot as plt\n",
        "import matplotlib.animation as animation"
      ],
      "metadata": {
        "id": "EiL9eK-0FNsx"
      },
      "execution_count": null,
      "outputs": []
    },
    {
      "cell_type": "markdown",
      "source": [
        "### Dynamics\n",
        "\n",
        "The pheromone field follows $$\\partial_t c(\\vec{x}, t) = k_+ \\rho_a(\\vec{x},t) - k_-c + D \\nabla^2 c$$ where:\n",
        "- $ c(\\vec{x}, t)$: is the concentration of the field at coordinates $\\vec{x}$, at time $t$.\n",
        "- $\\rho_a(\\vec{x},t)$: Gaussian Kernel convolved over the locations of the ant agents heading back."
      ],
      "metadata": {
        "id": "qQh2It0kc7CT"
      }
    },
    {
      "cell_type": "markdown",
      "source": [
        "#### Implicit Integration\n",
        "\n",
        "In an implicit scheme, ignoring reinforcement: $$c^{n+1} = c^n + \\Delta t(-k_- c^{n+1} + D\\nabla^2c^{n+1})$$\n",
        "and\n",
        "\n",
        "$$(1+\\Delta t k_-) c^{n+1} - D\\Delta t\\nabla^2c^{n+1} = c^n$$\n",
        "\n",
        "after discretizing field into a grid and ravelling it into a vector $\\vec{c}^n$,\n",
        "\n",
        "$$((1 +\\Delta t k_-) I - D\\Delta t L)\\vec c^{n+1} = \\vec c^n$$\n",
        "\n",
        "where $I$ is the ientity matrix of appropriate sign and $L$ is the matrix that computes the approximate laplacian with finite differences."
      ],
      "metadata": {
        "id": "V3xVqb-cl6S9"
      }
    },
    {
      "cell_type": "markdown",
      "source": [
        "#### Non-Dimensional Quantities:\n",
        "- Let the $r$ and $v_a$ be the size and speed of the agent respectively.\n",
        "- $r$ sets the length scale for the simulation and $\\tau = r/v_a$ sets the timescale.\n",
        "- The coordinates $\\vec{x}$ can be expressed as $\\vec{x} = (u\\cdot r, v \\cdot r) = r \\cdot \\vec{u}$; and time as $t = \\hat{t}\\tau$.\n",
        "\n",
        "The field dynamics equation now becomes:\n",
        "$$\\frac{v_a}{r} \\frac{\\partial c}{\\partial \\hat{t}} = k_+ \\rho_a - k_-c + \\frac{D}{r^2} \\nabla^2 c$$\n",
        "i.e,\n",
        "$$\\frac{\\partial c}{\\partial \\hat{t}} = \\hat{k_+} \\rho_a - \\hat{k_-}c + \\frac{1}{\\text{Pe}} \\nabla^2 c$$\n",
        "\n",
        "where $\\quad \\hat{k_+} = \\frac{r k_+}{v_a}, \\quad \\hat{k_-} = \\frac{r k_-}{v_a}, \\quad \\text{Pe} = \\frac{r v_a}{D}$ (the Peclet no.)\n",
        "\n",
        "In the implementation, we then have:\n",
        "\n",
        "$$\\left( (1 +\\Delta \\hat t \\hat{k_-}) I - \\frac{\\Delta \\hat t}{\\text{Pe}} L \\right) \\vec c^{n+1} = \\vec c^n$$\n",
        "\n",
        "which is of the form $\\quad A \\ \\vec c^{n+1} = \\vec c^n$\n",
        "\n",
        "`scipy`'s linear eqn. solver can then be used to evaluate $c^{n+1}$ given $c^{n}$."
      ],
      "metadata": {
        "id": "tphygv21O6_E"
      }
    },
    {
      "cell_type": "markdown",
      "source": [
        "### In Presence of Pher. Generating Agents\n",
        "\n",
        "The dynamics including the generative term:\n",
        "\n",
        "$$\\frac{\\vec c^{n+1}- \\vec c^n}{\\Delta \\hat{t}} = \\hat{k_+} \\rho_a - \\hat{k_-} \\vec c + \\frac{1}{\\text{Pe}} \\nabla^2 \\vec c$$\n",
        "\n",
        "$$$$\n",
        "$$c^{n+1} = c^n + \\Delta \\hat t \\left(\\hat{k_+} \\rho_a^{n} - \\hat{k_-} c^{n+1} + \\frac{1}{\\text{Pe}}\\nabla^2c^{n+1}\\right)$$\n",
        "\n",
        "in the implicit scheme:\n",
        "\n",
        "$$\\left( (1 +\\Delta \\hat t \\hat{k_-}) I - \\frac{\\Delta \\hat t}{\\text{Pe}} L \\right) \\vec c^{n+1} = \\vec c^n + \\Delta \\hat t \\hat{k_+} \\rho_a^{n}$$\n"
      ],
      "metadata": {
        "id": "RxH32CffN-ix"
      }
    },
    {
      "cell_type": "markdown",
      "source": [
        "#### Implementation Logistics\n",
        "\n",
        "For the simulation, we set $r=1$.\n",
        "\n",
        "Initial conditions $R, w$ (radius and setup of initial semicrcular setup) are expressed relative to the agent size $r$.\n",
        "\n",
        "The field $c(\\vec{u},t)$ is discretized to a grid, $c^t_{ij}$, where the grid spacing in non-dim units is $h$."
      ],
      "metadata": {
        "id": "alipifJyUAzv"
      }
    },
    {
      "cell_type": "code",
      "source": [
        "class PheromoneField:\n",
        "    #Setup\n",
        "    #---------------------------------------------------------------------------\n",
        "\n",
        "    def __init__(self, R, h, P, kp, kn, dt):\n",
        "        \"\"\"Initialize the PheromoneField class\"\"\"\n",
        "        self.R, self.h  = R, h                    #Radius, Grid spacing\n",
        "        self.dt = dt                              #Time step size (non-dim units)\n",
        "        self.Nx, self.Ny = 6*int(R/h), 4*int(R/h) #Grid size\n",
        "        self.P, self.kn, self.kp = P, kn, kp      #Peclet no., Decay constants (non-dim units)\n",
        "        self.iters = 0                            #Iteration counter\n",
        "\n",
        "        self.c = np.zeros((self.Nx, self.Ny))     #Field grid matrix\n",
        "        x = np.linspace(-3*R, 3*R, self.Nx)\n",
        "        y = np.linspace(-1*R, 3*R, self.Ny)\n",
        "        self.X, self.Y = np.meshgrid(x, y, indexing=\"ij\")\n",
        "        print('Grid set')\n",
        "\n",
        "        #simulatiton loop variables\n",
        "        self.cvec = self.c.ravel()                 #convert field matrix to one single vector\n",
        "        def matvec(v):                             #Matrix-free implicit Diffusion (Laplacian) + Decay operator\n",
        "            V = v.reshape(self.Nx, self.Ny)\n",
        "            L = (-4*V +\n",
        "                 np.roll(V, 1, axis=0) + np.roll(V, -1, axis=0) +\n",
        "                 np.roll(V, 1, axis=1) + np.roll(V, -1, axis=1)) / self.h**2\n",
        "            return (1 + self.kn*self.dt)*v - (self.dt/self.P) * L.ravel()\n",
        "        self.A = spla.LinearOperator((self.Nx*self.Ny, self.Nx*self.Ny), matvec=matvec)\n",
        "\n",
        "    def set_initial_semicircle(self, R, W):\n",
        "        \"\"\"Fill c=1 inside semicircular strip {R-W/2<=r<=R+W/2 && y>=0}\"\"\"\n",
        "        r = np.sqrt(self.X**2 + self.Y**2)\n",
        "        mask = (self.Y >= 0) & (np.abs(r - R) <= W/2)\n",
        "        self.c[mask] = 1.0\n",
        "        self.cvec = self.c.ravel()\n",
        "\n",
        "    #Simulation loop\n",
        "    #---------------------------------------------------------------------------\n",
        "    def step(self, agents, steps):\n",
        "        \"\"\"Advance field by dt with implicit diffusion + exact decay.\"\"\"\n",
        "        for _ in range(steps):\n",
        "            dep = self.kp * self.deposit_agents(agents)                             #Pheromone Generation\n",
        "            self.cvec, _ = spla.cg(self.A, self.cvec, x0=self.cvec, maxiter=200)    #Pheromone Diffusion + Decay\n",
        "            self.cvec += dep\n",
        "            for ag in agents:\n",
        "                ag.step(self.dt)\n",
        "        self.iters += steps\n",
        "        return\n",
        "\n",
        "    def deposit_agents(self, agents, sigma=0.1):\n",
        "        \"\"\"Add the pheromones deposit by the agents as gaussians\"\"\"\n",
        "        mask = np.zeros_like(self.cvec.reshape((self.Nx, self.Ny)))\n",
        "        positions = np.array([ag.r for ag in agents if ag.laying])              #Extract positions of only laying agents\n",
        "        if len(positions) > 0:\n",
        "            i = ((positions[:, 0] - self.X.min()) / self.h).astype(int)\n",
        "            j = ((positions[:, 1] - self.Y.min()) / self.h).astype(int)\n",
        "            valid = (i >= 0) & (i < self.Nx) & (j >= 0) & (j < self.Ny)\n",
        "            i, j = i[valid], j[valid]\n",
        "            np.add.at(mask, (i, j), 1.0)\n",
        "\n",
        "        deposit = gaussian_filter(mask, sigma/self.h)\n",
        "        return deposit.ravel()\n",
        "\n",
        "    #Visualization\n",
        "    #---------------------------------------------------------------------------\n",
        "    def animate(self, steps, agents, interval=50):\n",
        "        \"\"\"Make a matplotlib animation of the field evolution.\"\"\"\n",
        "        self.c = self.cvec.reshape((self.Nx, self.Ny)) #Recover c from cvec\n",
        "\n",
        "        fig, ax = plt.subplots()\n",
        "        im = ax.imshow(self.c.T, origin=\"lower\", cmap=\"viridis\", interpolation=\"nearest\",\n",
        "                       extent=[self.X.min(), self.X.max(),self.Y.min(), self.Y.max()], aspect=\"equal\")\n",
        "        time_text = ax.text(0.02, 0.95,  f't = 0.00τ', transform=ax.transAxes, color='white')\n",
        "        ax.set_title(\"Pheromone field\")\n",
        "        ax.set_xlabel(\"u\")\n",
        "        ax.set_ylabel(\"v\")\n",
        "\n",
        "        def update(frame):\n",
        "            if frame > 0:\n",
        "                self.step(agents, 1)\n",
        "            self.c = self.cvec.reshape((self.Nx, self.Ny)) #To recover c from cvec\n",
        "            im.set_data(self.c.T)\n",
        "            time_text.set_text(f\"t = {self.iters*self.dt:.4f}τ\")\n",
        "            return  im, time_text\n",
        "\n",
        "        ani = animation.FuncAnimation(fig, update, frames=steps,\n",
        "                                      interval=interval, blit=True)\n",
        "        #plt.show()\n",
        "        return ani\n",
        "\n",
        "    def plot_frame(self, steps):\n",
        "        \"\"\"Make a plot of the field evolution.\"\"\"\n",
        "        self.step(agents, steps)\n",
        "        self.c = self.cvec.reshape((self.Nx, self.Ny)) #To recover c from cvec\n",
        "\n",
        "        fig, ax = plt.subplots()\n",
        "        im = ax.imshow(self.c.T, origin=\"lower\", cmap=\"viridis\", vmax=1, vmin=0,\n",
        "                       extent=[self.X.min(), self.X.max(),self.Y.min(), self.Y.max()], aspect=\"equal\")\n",
        "        time_text = ax.text(0.02, 0.95,  f't = {self.iters * self.dt:.4f}τ', transform=ax.transAxes, color='white')\n",
        "        ax.set_title(\"Pheromone field\")\n",
        "        ax.set_xlabel(\"u\")\n",
        "        ax.set_ylabel(\"v\")\n",
        "        plt.show()\n",
        "        return"
      ],
      "metadata": {
        "id": "N-JzJvO7FBrl"
      },
      "execution_count": null,
      "outputs": []
    },
    {
      "cell_type": "code",
      "source": [
        "class Agent:\n",
        "    def __init__(self, r, phat, v=1.0, noise = 0.1, laying=False):\n",
        "        self.r      = np.array(r, dtype=float)                            #position\n",
        "        self.phat   = np.array(phat, dtype=float) / np.linalg.norm(phat)  #p_hat: Direction\n",
        "        self.v      = v                                                   #velocity\n",
        "        self.laying = laying                                              #is laying pheromones?\n",
        "        self.noise  = noise                                               #noise level\n",
        "\n",
        "        self.alpha = 50\n",
        "        self.tgtphi = 0\n",
        "        self.thet = 0.5*np.pi\n",
        "        self.diff = 1.0\n",
        "        self.tgt = np.array([-10.0,0])\n",
        "\n",
        "        self.nIntStep = 75\n",
        "        self.steps = 0\n",
        "        return\n",
        "\n",
        "    def step(self, dt):\n",
        "        if self.steps < self.nIntStep:\n",
        "            self.intPolicy(dt)\n",
        "        elif self.steps == self.nIntStep:\n",
        "            tgtOrn = (self.tgt - self.r)/np.linalg.norm(self.tgt - self.r) #Orientation of the target from given location\n",
        "            self.tgtphi = np.arctan2(tgtOrn[1], tgtOrn[0])\n",
        "            self.OUPolicy(dt)\n",
        "        else:\n",
        "            self.OUPolicy(dt)\n",
        "        self.steps += 1\n",
        "        return\n",
        "\n",
        "    def intPolicy(self, dt ):\n",
        "        phi = np.arctan2(self.r[1], self.r[0])\n",
        "        phi += np.pi/2 + self.noise * np.random.randn()\n",
        "        self.phat = np.array([np.cos(phi), np.sin(phi)])\n",
        "        self.r += self.v * dt * self.phat\n",
        "        return\n",
        "\n",
        "    def OUPolicy(self, dt):\n",
        "        self.r += self.v * dt * np.array([np.cos(self.thet), np.sin(self.thet)])\n",
        "        d_thet = self.alpha*(self.tgtphi - self.thet)*dt + np.sqrt(2*self.diff*dt)*np.random.normal()\n",
        "        self.thet += d_thet\n",
        "        return"
      ],
      "metadata": {
        "id": "P20i7s5_qBgq"
      },
      "execution_count": null,
      "outputs": []
    },
    {
      "cell_type": "code",
      "source": [
        "agents = [Agent([5,0], [0,1], v=4.0, laying=True),\n",
        "          Agent([8,0], [0,1], v=6.0, laying=True)]"
      ],
      "metadata": {
        "id": "VBGnuOd0wnzm"
      },
      "execution_count": null,
      "outputs": []
    },
    {
      "cell_type": "code",
      "source": [
        "field = PheromoneField(R = 10, h=0.1, P=50, kp = 3, kn=0.5, dt=0.01)\n",
        "field.set_initial_semicircle(R=10, W=0.5)"
      ],
      "metadata": {
        "colab": {
          "base_uri": "https://localhost:8080/"
        },
        "id": "vD0eT6bdFeNi",
        "outputId": "29496514-fab9-4721-bd1e-f3d20c98be77"
      },
      "execution_count": null,
      "outputs": [
        {
          "output_type": "stream",
          "name": "stdout",
          "text": [
            "Grid set\n"
          ]
        }
      ]
    },
    {
      "cell_type": "code",
      "source": [
        "ani = field.animate(600, agents)\n",
        "ani.save(\"pheromone.mp4\", writer=\"ffmpeg\", fps=20)"
      ],
      "metadata": {
        "colab": {
          "base_uri": "https://localhost:8080/"
        },
        "id": "fkccp28Wm4DK",
        "outputId": "aaaa43c1-5099-4138-8513-326d81c44082"
      },
      "execution_count": null,
      "outputs": [
        {
          "output_type": "display_data",
          "data": {
            "text/plain": [
              "<Figure size 640x480 with 1 Axes>"
            ],
            "image/png": "[encoded data removed]"
          },
          "metadata": {}
        }
      ]
    },
    {
      "cell_type": "code",
      "source": [],
      "metadata": {
        "id": "tkV77i5mdxRc"
      },
      "execution_count": null,
      "outputs": []
    }
  ]
}